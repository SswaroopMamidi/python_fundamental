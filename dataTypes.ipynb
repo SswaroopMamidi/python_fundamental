{
 "cells": [
  {
   "cell_type": "code",
   "execution_count": 2,
   "id": "32a70293",
   "metadata": {},
   "outputs": [
    {
     "name": "stdout",
     "output_type": "stream",
     "text": [
      "selflearning\n"
     ]
    }
   ],
   "source": [
    "name = 'selflearning'\n",
    "print (name)"
   ]
  },
  {
   "cell_type": "code",
   "execution_count": null,
   "id": "48c48e3d",
   "metadata": {},
   "outputs": [],
   "source": [
    "string is classified is immutable dtatype\n",
    "    3 possible ways to declare string \n",
    "    \n",
    "    1. single quotes\n",
    "    2. double quotes\n",
    "    3. tripple quotes\n",
    "    "
   ]
  },
  {
   "cell_type": "code",
   "execution_count": null,
   "id": "c59632b6",
   "metadata": {},
   "outputs": [],
   "source": []
  }
 ],
 "metadata": {
  "kernelspec": {
   "display_name": "Python 3",
   "language": "python",
   "name": "python3"
  },
  "language_info": {
   "codemirror_mode": {
    "name": "ipython",
    "version": 3
   },
   "file_extension": ".py",
   "mimetype": "text/x-python",
   "name": "python",
   "nbconvert_exporter": "python",
   "pygments_lexer": "ipython3",
   "version": "3.8.8"
  }
 },
 "nbformat": 4,
 "nbformat_minor": 5
}
