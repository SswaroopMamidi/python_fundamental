{
 "cells": [
  {
   "cell_type": "code",
   "execution_count": null,
   "id": "ef1c6bb3",
   "metadata": {},
   "outputs": [],
   "source": [
    "introduction to list data type\n",
    "def: list is collection of items in a particular order \n",
    "classifaction: it is classified as mutable data type (we can edit or alter)\n",
    "Identification: [] used for defining the list"
   ]
  },
  {
   "cell_type": "code",
   "execution_count": 1,
   "id": "b72b9525",
   "metadata": {},
   "outputs": [
    {
     "name": "stdout",
     "output_type": "stream",
     "text": [
      "['abcd', 'mavenir', 'sonus']\n"
     ]
    }
   ],
   "source": [
    "students =['abcd','mavenir','sonus']\n",
    "print (students)"
   ]
  },
  {
   "cell_type": "code",
   "execution_count": 2,
   "id": "57d6a563",
   "metadata": {},
   "outputs": [
    {
     "data": {
      "text/plain": [
       "list"
      ]
     },
     "execution_count": 2,
     "metadata": {},
     "output_type": "execute_result"
    }
   ],
   "source": [
    "type (students)"
   ]
  },
  {
   "cell_type": "code",
   "execution_count": 4,
   "id": "c8a83cdd",
   "metadata": {},
   "outputs": [
    {
     "ename": "SyntaxError",
     "evalue": "invalid syntax (<ipython-input-4-d080c409bc53>, line 1)",
     "output_type": "error",
     "traceback": [
      "\u001b[0;36m  File \u001b[0;32m\"<ipython-input-4-d080c409bc53>\"\u001b[0;36m, line \u001b[0;32m1\u001b[0m\n\u001b[0;31m    how to access the elements from the list\u001b[0m\n\u001b[0m        ^\u001b[0m\n\u001b[0;31mSyntaxError\u001b[0m\u001b[0;31m:\u001b[0m invalid syntax\n"
     ]
    }
   ],
   "source": [
    "how to access the elements from the list\n",
    "introduction to indexing:\n",
    "i want to access name of mavenir"
   ]
  },
  {
   "cell_type": "code",
   "execution_count": 5,
   "id": "2816e334",
   "metadata": {},
   "outputs": [
    {
     "name": "stdout",
     "output_type": "stream",
     "text": [
      "mavenir\n"
     ]
    }
   ],
   "source": [
    "print (students[1])"
   ]
  },
  {
   "cell_type": "code",
   "execution_count": null,
   "id": "fea0a492",
   "metadata": {},
   "outputs": [],
   "source": []
  }
 ],
 "metadata": {
  "kernelspec": {
   "display_name": "Python 3",
   "language": "python",
   "name": "python3"
  },
  "language_info": {
   "codemirror_mode": {
    "name": "ipython",
    "version": 3
   },
   "file_extension": ".py",
   "mimetype": "text/x-python",
   "name": "python",
   "nbconvert_exporter": "python",
   "pygments_lexer": "ipython3",
   "version": "3.8.8"
  }
 },
 "nbformat": 4,
 "nbformat_minor": 5
}
